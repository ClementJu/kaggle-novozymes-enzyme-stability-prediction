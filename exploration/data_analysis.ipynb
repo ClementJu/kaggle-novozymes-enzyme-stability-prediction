{
 "cells": [
  {
   "cell_type": "markdown",
   "id": "106b0a1c-933b-4947-b411-36744ff0944e",
   "metadata": {},
   "source": [
    "# Data analysis"
   ]
  },
  {
   "cell_type": "code",
   "execution_count": 76,
   "id": "5dad04ba-3afa-4b3b-b7e6-c71badeaa2af",
   "metadata": {},
   "outputs": [],
   "source": [
    "import pandas as pd\n",
    "import matplotlib.pyplot as plt\n",
    "import seaborn as sns\n",
    "import numpy as np\n",
    "from pathlib import Path\n",
    "from typing import List"
   ]
  },
  {
   "cell_type": "code",
   "execution_count": 27,
   "id": "a4102ae4-d572-49b1-9e39-2c2726bb5b37",
   "metadata": {},
   "outputs": [],
   "source": [
    "sns.set_style('whitegrid')\n",
    "sns.set_theme(style=\"white\")\n",
    "plt.figure(figsize=(16, 6))\n",
    "%matplotlib inline"
   ]
  },
  {
   "cell_type": "markdown",
   "id": "2f611f79-4b3f-4944-b3f7-b87cd7c41d4a",
   "metadata": {},
   "source": [
    "## Import data"
   ]
  },
  {
   "cell_type": "code",
   "execution_count": 3,
   "id": "5bf2819e-9cbd-4a49-8844-c74468bd22da",
   "metadata": {},
   "outputs": [],
   "source": [
    "path_to_training_set = Path('../data/train.csv')\n",
    "path_to_test_set = Path('../data/test.csv')"
   ]
  },
  {
   "cell_type": "code",
   "execution_count": 5,
   "id": "32b6ae35-9cff-4ab4-9a93-d7e88693bffb",
   "metadata": {},
   "outputs": [],
   "source": [
    "df_train_raw = pd.read_csv(path_to_training_set)\n",
    "df_test_raw = pd.read_csv(path_to_test_set)"
   ]
  },
  {
   "cell_type": "markdown",
   "id": "2518485f-da57-42a9-90fd-8f1c2e938b21",
   "metadata": {},
   "source": [
    "## Basic information - Training data"
   ]
  },
  {
   "cell_type": "code",
   "execution_count": 7,
   "id": "78e55ad5-6e49-48c3-bd3e-b842e2d7332a",
   "metadata": {},
   "outputs": [
    {
     "name": "stdout",
     "output_type": "stream",
     "text": [
      "<class 'pandas.core.frame.DataFrame'>\n",
      "RangeIndex: 31390 entries, 0 to 31389\n",
      "Data columns (total 5 columns):\n",
      " #   Column            Non-Null Count  Dtype  \n",
      "---  ------            --------------  -----  \n",
      " 0   seq_id            31390 non-null  int64  \n",
      " 1   protein_sequence  31390 non-null  object \n",
      " 2   pH                31104 non-null  float64\n",
      " 3   data_source       28043 non-null  object \n",
      " 4   tm                31390 non-null  float64\n",
      "dtypes: float64(2), int64(1), object(2)\n",
      "memory usage: 1.2+ MB\n"
     ]
    }
   ],
   "source": [
    "df_train_raw.info()"
   ]
  },
  {
   "cell_type": "code",
   "execution_count": 8,
   "id": "3e30894e-c709-4c08-a451-861d5f5e7fdb",
   "metadata": {},
   "outputs": [
    {
     "data": {
      "text/html": [
       "<div>\n",
       "<style scoped>\n",
       "    .dataframe tbody tr th:only-of-type {\n",
       "        vertical-align: middle;\n",
       "    }\n",
       "\n",
       "    .dataframe tbody tr th {\n",
       "        vertical-align: top;\n",
       "    }\n",
       "\n",
       "    .dataframe thead th {\n",
       "        text-align: right;\n",
       "    }\n",
       "</style>\n",
       "<table border=\"1\" class=\"dataframe\">\n",
       "  <thead>\n",
       "    <tr style=\"text-align: right;\">\n",
       "      <th></th>\n",
       "      <th>seq_id</th>\n",
       "      <th>protein_sequence</th>\n",
       "      <th>pH</th>\n",
       "      <th>data_source</th>\n",
       "      <th>tm</th>\n",
       "    </tr>\n",
       "  </thead>\n",
       "  <tbody>\n",
       "    <tr>\n",
       "      <th>0</th>\n",
       "      <td>0</td>\n",
       "      <td>AAAAKAAALALLGEAPEVVDIWLPAGWRQPFRVFRLERKGDGVLVG...</td>\n",
       "      <td>7.0</td>\n",
       "      <td>doi.org/10.1038/s41592-020-0801-4</td>\n",
       "      <td>75.7</td>\n",
       "    </tr>\n",
       "    <tr>\n",
       "      <th>1</th>\n",
       "      <td>1</td>\n",
       "      <td>AAADGEPLHNEEERAGAGQVGRSLPQESEEQRTGSRPRRRRDLGSR...</td>\n",
       "      <td>7.0</td>\n",
       "      <td>doi.org/10.1038/s41592-020-0801-4</td>\n",
       "      <td>50.5</td>\n",
       "    </tr>\n",
       "    <tr>\n",
       "      <th>2</th>\n",
       "      <td>2</td>\n",
       "      <td>AAAFSTPRATSYRILSSAGSGSTRADAPQVRRLHTTRDLLAKDYYA...</td>\n",
       "      <td>7.0</td>\n",
       "      <td>doi.org/10.1038/s41592-020-0801-4</td>\n",
       "      <td>40.5</td>\n",
       "    </tr>\n",
       "    <tr>\n",
       "      <th>3</th>\n",
       "      <td>3</td>\n",
       "      <td>AAASGLRTAIPAQPLRHLLQPAPRPCLRPFGLLSVRAGSARRSGLL...</td>\n",
       "      <td>7.0</td>\n",
       "      <td>doi.org/10.1038/s41592-020-0801-4</td>\n",
       "      <td>47.2</td>\n",
       "    </tr>\n",
       "    <tr>\n",
       "      <th>4</th>\n",
       "      <td>4</td>\n",
       "      <td>AAATKSGPRRQSQGASVRTFTPFYFLVEPVDTLSVRGSSVILNCSA...</td>\n",
       "      <td>7.0</td>\n",
       "      <td>doi.org/10.1038/s41592-020-0801-4</td>\n",
       "      <td>49.5</td>\n",
       "    </tr>\n",
       "  </tbody>\n",
       "</table>\n",
       "</div>"
      ],
      "text/plain": [
       "   seq_id                                   protein_sequence   pH  \\\n",
       "0       0  AAAAKAAALALLGEAPEVVDIWLPAGWRQPFRVFRLERKGDGVLVG...  7.0   \n",
       "1       1  AAADGEPLHNEEERAGAGQVGRSLPQESEEQRTGSRPRRRRDLGSR...  7.0   \n",
       "2       2  AAAFSTPRATSYRILSSAGSGSTRADAPQVRRLHTTRDLLAKDYYA...  7.0   \n",
       "3       3  AAASGLRTAIPAQPLRHLLQPAPRPCLRPFGLLSVRAGSARRSGLL...  7.0   \n",
       "4       4  AAATKSGPRRQSQGASVRTFTPFYFLVEPVDTLSVRGSSVILNCSA...  7.0   \n",
       "\n",
       "                         data_source    tm  \n",
       "0  doi.org/10.1038/s41592-020-0801-4  75.7  \n",
       "1  doi.org/10.1038/s41592-020-0801-4  50.5  \n",
       "2  doi.org/10.1038/s41592-020-0801-4  40.5  \n",
       "3  doi.org/10.1038/s41592-020-0801-4  47.2  \n",
       "4  doi.org/10.1038/s41592-020-0801-4  49.5  "
      ]
     },
     "execution_count": 8,
     "metadata": {},
     "output_type": "execute_result"
    }
   ],
   "source": [
    "df_train_raw.head()"
   ]
  },
  {
   "cell_type": "code",
   "execution_count": 9,
   "id": "bc4963a3-c57b-4903-8e5e-34c36d7bbbfc",
   "metadata": {},
   "outputs": [
    {
     "data": {
      "text/plain": [
       "(31390, 5)"
      ]
     },
     "execution_count": 9,
     "metadata": {},
     "output_type": "execute_result"
    }
   ],
   "source": [
    "df_train_raw.shape"
   ]
  },
  {
   "cell_type": "markdown",
   "id": "833c129b-b5cc-4d30-b7b3-4e8e95cb3925",
   "metadata": {},
   "source": [
    "## Basic information - Test data"
   ]
  },
  {
   "cell_type": "code",
   "execution_count": 11,
   "id": "a2fb8bb9-0296-4221-b630-bfef4fa73afc",
   "metadata": {},
   "outputs": [
    {
     "name": "stdout",
     "output_type": "stream",
     "text": [
      "<class 'pandas.core.frame.DataFrame'>\n",
      "RangeIndex: 2413 entries, 0 to 2412\n",
      "Data columns (total 4 columns):\n",
      " #   Column            Non-Null Count  Dtype \n",
      "---  ------            --------------  ----- \n",
      " 0   seq_id            2413 non-null   int64 \n",
      " 1   protein_sequence  2413 non-null   object\n",
      " 2   pH                2413 non-null   int64 \n",
      " 3   data_source       2413 non-null   object\n",
      "dtypes: int64(2), object(2)\n",
      "memory usage: 75.5+ KB\n"
     ]
    }
   ],
   "source": [
    "df_test_raw.info()"
   ]
  },
  {
   "cell_type": "code",
   "execution_count": 12,
   "id": "de204e81-1ed6-4870-bd8c-b43d23b4f5ea",
   "metadata": {},
   "outputs": [
    {
     "data": {
      "text/html": [
       "<div>\n",
       "<style scoped>\n",
       "    .dataframe tbody tr th:only-of-type {\n",
       "        vertical-align: middle;\n",
       "    }\n",
       "\n",
       "    .dataframe tbody tr th {\n",
       "        vertical-align: top;\n",
       "    }\n",
       "\n",
       "    .dataframe thead th {\n",
       "        text-align: right;\n",
       "    }\n",
       "</style>\n",
       "<table border=\"1\" class=\"dataframe\">\n",
       "  <thead>\n",
       "    <tr style=\"text-align: right;\">\n",
       "      <th></th>\n",
       "      <th>seq_id</th>\n",
       "      <th>protein_sequence</th>\n",
       "      <th>pH</th>\n",
       "      <th>data_source</th>\n",
       "    </tr>\n",
       "  </thead>\n",
       "  <tbody>\n",
       "    <tr>\n",
       "      <th>0</th>\n",
       "      <td>31390</td>\n",
       "      <td>VPVNPEPDATSVENVAEKTGSGDSQSDPIKADLEVKGQSALPFDVD...</td>\n",
       "      <td>8</td>\n",
       "      <td>Novozymes</td>\n",
       "    </tr>\n",
       "    <tr>\n",
       "      <th>1</th>\n",
       "      <td>31391</td>\n",
       "      <td>VPVNPEPDATSVENVAKKTGSGDSQSDPIKADLEVKGQSALPFDVD...</td>\n",
       "      <td>8</td>\n",
       "      <td>Novozymes</td>\n",
       "    </tr>\n",
       "    <tr>\n",
       "      <th>2</th>\n",
       "      <td>31392</td>\n",
       "      <td>VPVNPEPDATSVENVAKTGSGDSQSDPIKADLEVKGQSALPFDVDC...</td>\n",
       "      <td>8</td>\n",
       "      <td>Novozymes</td>\n",
       "    </tr>\n",
       "    <tr>\n",
       "      <th>3</th>\n",
       "      <td>31393</td>\n",
       "      <td>VPVNPEPDATSVENVALCTGSGDSQSDPIKADLEVKGQSALPFDVD...</td>\n",
       "      <td>8</td>\n",
       "      <td>Novozymes</td>\n",
       "    </tr>\n",
       "    <tr>\n",
       "      <th>4</th>\n",
       "      <td>31394</td>\n",
       "      <td>VPVNPEPDATSVENVALFTGSGDSQSDPIKADLEVKGQSALPFDVD...</td>\n",
       "      <td>8</td>\n",
       "      <td>Novozymes</td>\n",
       "    </tr>\n",
       "  </tbody>\n",
       "</table>\n",
       "</div>"
      ],
      "text/plain": [
       "   seq_id                                   protein_sequence  pH data_source\n",
       "0   31390  VPVNPEPDATSVENVAEKTGSGDSQSDPIKADLEVKGQSALPFDVD...   8   Novozymes\n",
       "1   31391  VPVNPEPDATSVENVAKKTGSGDSQSDPIKADLEVKGQSALPFDVD...   8   Novozymes\n",
       "2   31392  VPVNPEPDATSVENVAKTGSGDSQSDPIKADLEVKGQSALPFDVDC...   8   Novozymes\n",
       "3   31393  VPVNPEPDATSVENVALCTGSGDSQSDPIKADLEVKGQSALPFDVD...   8   Novozymes\n",
       "4   31394  VPVNPEPDATSVENVALFTGSGDSQSDPIKADLEVKGQSALPFDVD...   8   Novozymes"
      ]
     },
     "execution_count": 12,
     "metadata": {},
     "output_type": "execute_result"
    }
   ],
   "source": [
    "df_test_raw.head()"
   ]
  },
  {
   "cell_type": "code",
   "execution_count": 13,
   "id": "bee89269-39d2-4971-be6e-048177c4f861",
   "metadata": {},
   "outputs": [
    {
     "data": {
      "text/plain": [
       "(2413, 4)"
      ]
     },
     "execution_count": 13,
     "metadata": {},
     "output_type": "execute_result"
    }
   ],
   "source": [
    "df_test_raw.shape"
   ]
  },
  {
   "cell_type": "markdown",
   "id": "4556d157-0182-4ae5-8899-94a03751edeb",
   "metadata": {},
   "source": [
    "## Visual and statistical analysis - Training data"
   ]
  },
  {
   "cell_type": "code",
   "execution_count": 59,
   "id": "25587e52-7178-4d18-ad16-445a5c22ce8b",
   "metadata": {},
   "outputs": [],
   "source": [
    "def get_stats(series: pd.Series) -> None:\n",
    "    print(f'Mean: {series.mean()}')\n",
    "    print(f'Median: {series.median()}')\n",
    "    print(f'Min: {series.min()}')\n",
    "    print(f'Max: {series.max()}')\n",
    "    print(f'Unique values: {series.nunique()}')\n",
    "    print(f'Missing values: {series.isnull().sum()}')"
   ]
  },
  {
   "cell_type": "markdown",
   "id": "bcd6dee7-bcc3-4cde-b097-018af9d0ff05",
   "metadata": {},
   "source": [
    "### Melting point"
   ]
  },
  {
   "cell_type": "code",
   "execution_count": 35,
   "id": "31677764-ba5e-4ff1-af27-72ae5ddcc40e",
   "metadata": {},
   "outputs": [
    {
     "data": {
      "text/plain": [
       "Text(0.5, 6.799999999999979, 'Melting point - TM')"
      ]
     },
     "execution_count": 35,
     "metadata": {},
     "output_type": "execute_result"
    },
    {
     "data": {
      "image/png": "[encoded data removed]",
      "text/plain": [
       "<Figure size 360x360 with 1 Axes>"
      ]
     },
     "metadata": {
      "needs_background": "light"
     },
     "output_type": "display_data"
    }
   ],
   "source": [
    "sns.displot(df_train_raw, x='tm', bins=30)\n",
    "plt.title('Melting point - TM - Distribution')\n",
    "plt.xlabel('Melting point - TM')"
   ]
  },
  {
   "cell_type": "code",
   "execution_count": 60,
   "id": "00298a61-7630-4cf1-ae21-9fb3600d23b1",
   "metadata": {},
   "outputs": [
    {
     "name": "stdout",
     "output_type": "stream",
     "text": [
      "Mean: 49.14733673144313\n",
      "Median: 48.0\n",
      "Min: -1.0\n",
      "Max: 130.0\n",
      "Unique values: 770\n",
      "Missing values: 0\n"
     ]
    }
   ],
   "source": [
    "get_stats(df_train_raw.tm)"
   ]
  },
  {
   "cell_type": "markdown",
   "id": "54038198-50a2-42eb-bfa5-e8b299b6a6c9",
   "metadata": {},
   "source": [
    "### pH"
   ]
  },
  {
   "cell_type": "code",
   "execution_count": 47,
   "id": "cd44bf69-a4c8-48a3-92d9-f8339eca0ff6",
   "metadata": {},
   "outputs": [
    {
     "data": {
      "text/plain": [
       "(0.0, 16.0)"
      ]
     },
     "execution_count": 47,
     "metadata": {},
     "output_type": "execute_result"
    },
    {
     "data": {
      "image/png": "[encoded data removed]",
      "text/plain": [
       "<Figure size 360x360 with 1 Axes>"
      ]
     },
     "metadata": {
      "needs_background": "light"
     },
     "output_type": "display_data"
    }
   ],
   "source": [
    "sns.displot(df_train_raw, x='pH', bins=np.arange(0, 16))\n",
    "plt.title('pH - Distribution')\n",
    "plt.xlabel('pH')\n",
    "plt.xlim(0, 16)"
   ]
  },
  {
   "cell_type": "code",
   "execution_count": 61,
   "id": "4b1837a4-d7d5-4fa3-a769-42bef037b183",
   "metadata": {},
   "outputs": [
    {
     "name": "stdout",
     "output_type": "stream",
     "text": [
      "Mean: 6.892339248971194\n",
      "Median: 7.0\n",
      "Min: 1.99\n",
      "Max: 64.9\n",
      "Unique values: 115\n",
      "Missing values: 286\n"
     ]
    }
   ],
   "source": [
    "get_stats(df_train_raw.pH)"
   ]
  },
  {
   "cell_type": "markdown",
   "id": "1a13f4ce-0a00-4ffe-a53e-5414f594d015",
   "metadata": {},
   "source": [
    "### Protein sequence length"
   ]
  },
  {
   "cell_type": "code",
   "execution_count": 65,
   "id": "f1d977c0-3c7c-44d6-9eae-696b97da00b7",
   "metadata": {},
   "outputs": [],
   "source": [
    "seq_len = pd.Series([len(seq) for seq in df_train_raw.protein_sequence])"
   ]
  },
  {
   "cell_type": "code",
   "execution_count": 66,
   "id": "19d35f06-0ab6-4700-b46d-452e25f7ff59",
   "metadata": {},
   "outputs": [
    {
     "data": {
      "text/plain": [
       "(0.0, 3000.0)"
      ]
     },
     "execution_count": 66,
     "metadata": {},
     "output_type": "execute_result"
    },
    {
     "data": {
      "image/png": "[encoded data removed]",
      "text/plain": [
       "<Figure size 360x360 with 1 Axes>"
      ]
     },
     "metadata": {
      "needs_background": "light"
     },
     "output_type": "display_data"
    }
   ],
   "source": [
    "sns.displot(seq_len)\n",
    "plt.title('Length of protein sequence - Distribution')\n",
    "plt.xlabel('Length of protein sequence')\n",
    "plt.xlim(0, 3000)"
   ]
  },
  {
   "cell_type": "code",
   "execution_count": 68,
   "id": "8ec43d78-86c3-4b5d-bb38-e677eea098f6",
   "metadata": {},
   "outputs": [
    {
     "name": "stdout",
     "output_type": "stream",
     "text": [
      "Mean: 447.66951258362536\n",
      "Median: 336.0\n",
      "Min: 5\n",
      "Max: 32767\n",
      "Unique values: 1965\n",
      "Missing values: 0\n"
     ]
    }
   ],
   "source": [
    "get_stats(seq_len)"
   ]
  },
  {
   "cell_type": "code",
   "execution_count": 70,
   "id": "7d5ea753-0bb0-4cb6-ab54-2d91ddda4346",
   "metadata": {},
   "outputs": [
    {
     "data": {
      "text/plain": [
       "0.005      56.00\n",
       "0.010      66.00\n",
       "0.050     101.00\n",
       "0.100     139.00\n",
       "0.200     164.00\n",
       "0.300     229.00\n",
       "0.400     272.00\n",
       "0.500     336.00\n",
       "0.600     402.00\n",
       "0.700     473.00\n",
       "0.800     590.00\n",
       "0.900     838.00\n",
       "0.950    1120.00\n",
       "0.980    1697.22\n",
       "0.990    2242.00\n",
       "0.995    2536.22\n",
       "dtype: float64"
      ]
     },
     "execution_count": 70,
     "metadata": {},
     "output_type": "execute_result"
    }
   ],
   "source": [
    "seq_len.quantile([0.005, 0.01, 0.05, 0.1, 0.2, 0.3, 0.4, 0.5, 0.6, 0.7, 0.8, 0.9, 0.95, 0.98, 0.99, 0.995])"
   ]
  },
  {
   "cell_type": "markdown",
   "id": "d23b424e-5810-4bdd-b1ce-b25ae639fa1a",
   "metadata": {},
   "source": [
    "### Protein sequences"
   ]
  },
  {
   "cell_type": "code",
   "execution_count": 96,
   "id": "7a1fbe00-5942-4804-9676-1d6ce75ffaa4",
   "metadata": {},
   "outputs": [],
   "source": [
    "%%capture\n",
    "\n",
    "def split_sequence_and_accumulate(seq: str, accumulator: List[str]) -> List[str]:\n",
    "    accumulator += [p for p in seq]\n",
    "\n",
    "split_seq = []\n",
    "df_train_raw.protein_sequence.apply(lambda sequence: split_sequence_and_accumulate(sequence, split_seq))"
   ]
  },
  {
   "cell_type": "code",
   "execution_count": 90,
   "id": "8a48c85d-9fdb-49b4-b4d4-0c341207e746",
   "metadata": {},
   "outputs": [],
   "source": [
    "split_seq_series = pd.Series(split_seq)"
   ]
  },
  {
   "cell_type": "code",
   "execution_count": 92,
   "id": "c7c278f1-98f3-494b-9636-eb9603de5901",
   "metadata": {},
   "outputs": [
    {
     "data": {
      "text/plain": [
       "L    1317330\n",
       "A    1076601\n",
       "E    1023323\n",
       "S    1010021\n",
       "G     939677\n",
       "V     918075\n",
       "K     885207\n",
       "D     780992\n",
       "T     758905\n",
       "I     746069\n",
       "R     745753\n",
       "P     707293\n",
       "Q     610147\n",
       "N     591608\n",
       "F     520503\n",
       "Y     416436\n",
       "M     323506\n",
       "H     315796\n",
       "C     207350\n",
       "W     157754\n",
       "dtype: int64"
      ]
     },
     "execution_count": 92,
     "metadata": {},
     "output_type": "execute_result"
    }
   ],
   "source": [
    "split_seq_series.value_counts()"
   ]
  },
  {
   "cell_type": "code",
   "execution_count": 99,
   "id": "228d769d-0020-40e3-8342-9203c67a0e36",
   "metadata": {},
   "outputs": [
    {
     "data": {
      "text/plain": [
       "Text(0.5, 6.799999999999979, 'Amino acid')"
      ]
     },
     "execution_count": 99,
     "metadata": {},
     "output_type": "execute_result"
    },
    {
     "data": {
      "image/png": "[encoded data removed]",
      "text/plain": [
       "<Figure size 360x360 with 1 Axes>"
      ]
     },
     "metadata": {
      "needs_background": "light"
     },
     "output_type": "display_data"
    }
   ],
   "source": [
    "sns.displot(split_seq_series)\n",
    "plt.title('Amino acids - Distribution')\n",
    "plt.xlabel('Amino acid')"
   ]
  },
  {
   "cell_type": "markdown",
   "id": "286d2a4f-480a-4392-94b8-6ec309cb8493",
   "metadata": {},
   "source": [
    "## Visual and statistical analysis - Test data"
   ]
  },
  {
   "cell_type": "markdown",
   "id": "79c30fff-2e91-430c-9eda-3342ab380368",
   "metadata": {},
   "source": [
    "### pH"
   ]
  },
  {
   "cell_type": "code",
   "execution_count": 102,
   "id": "e57f52f0-44cf-4d51-b254-551d03216355",
   "metadata": {},
   "outputs": [
    {
     "data": {
      "text/plain": [
       "(0.0, 16.0)"
      ]
     },
     "execution_count": 102,
     "metadata": {},
     "output_type": "execute_result"
    },
    {
     "data": {
      "image/png": "[encoded data removed]",
      "text/plain": [
       "<Figure size 360x360 with 1 Axes>"
      ]
     },
     "metadata": {
      "needs_background": "light"
     },
     "output_type": "display_data"
    }
   ],
   "source": [
    "sns.displot(df_test_raw, x='pH', bins=np.arange(0, 16))\n",
    "plt.title('pH - Distribution')\n",
    "plt.xlabel('pH')\n",
    "plt.xlim(0, 16)"
   ]
  },
  {
   "cell_type": "code",
   "execution_count": 103,
   "id": "3e34160d-5e59-4394-a462-31aae9335652",
   "metadata": {},
   "outputs": [
    {
     "name": "stdout",
     "output_type": "stream",
     "text": [
      "Mean: 8.0\n",
      "Median: 8.0\n",
      "Min: 8\n",
      "Max: 8\n",
      "Unique values: 1\n",
      "Missing values: 0\n"
     ]
    }
   ],
   "source": [
    "get_stats(df_test_raw.pH)"
   ]
  },
  {
   "cell_type": "markdown",
   "id": "9b2f0b20-2a26-43f6-b283-d9f202dcff96",
   "metadata": {},
   "source": [
    "### Protein sequence length"
   ]
  },
  {
   "cell_type": "code",
   "execution_count": 104,
   "id": "c1ffaf87-1451-48b2-8bfe-fcb4bd1f5ff8",
   "metadata": {},
   "outputs": [],
   "source": [
    "seq_len_test = pd.Series([len(seq) for seq in df_test_raw.protein_sequence])"
   ]
  },
  {
   "cell_type": "code",
   "execution_count": 105,
   "id": "7cc8933a-9104-4807-b78a-c0f4e6c44168",
   "metadata": {},
   "outputs": [
    {
     "data": {
      "text/plain": [
       "(0.0, 3000.0)"
      ]
     },
     "execution_count": 105,
     "metadata": {},
     "output_type": "execute_result"
    },
    {
     "data": {
      "image/png": "[encoded data removed]",
      "text/plain": [
       "<Figure size 360x360 with 1 Axes>"
      ]
     },
     "metadata": {
      "needs_background": "light"
     },
     "output_type": "display_data"
    }
   ],
   "source": [
    "sns.displot(seq_len_test)\n",
    "plt.title('Length of protein sequence - Distribution')\n",
    "plt.xlabel('Length of protein sequence')\n",
    "plt.xlim(0, 3000)"
   ]
  },
  {
   "cell_type": "code",
   "execution_count": 106,
   "id": "5215e7da-7882-491d-8d8e-073d3f7e3e76",
   "metadata": {},
   "outputs": [
    {
     "name": "stdout",
     "output_type": "stream",
     "text": [
      "Mean: 220.9680895151264\n",
      "Median: 221.0\n",
      "Min: 220\n",
      "Max: 221\n",
      "Unique values: 2\n",
      "Missing values: 0\n"
     ]
    }
   ],
   "source": [
    "get_stats(seq_len_test)"
   ]
  },
  {
   "cell_type": "code",
   "execution_count": 107,
   "id": "ac674205-56dc-47b2-8756-45e78135077c",
   "metadata": {},
   "outputs": [
    {
     "data": {
      "text/plain": [
       "0.005    220.0\n",
       "0.010    220.0\n",
       "0.050    221.0\n",
       "0.100    221.0\n",
       "0.200    221.0\n",
       "0.300    221.0\n",
       "0.400    221.0\n",
       "0.500    221.0\n",
       "0.600    221.0\n",
       "0.700    221.0\n",
       "0.800    221.0\n",
       "0.900    221.0\n",
       "0.950    221.0\n",
       "0.980    221.0\n",
       "0.990    221.0\n",
       "0.995    221.0\n",
       "dtype: float64"
      ]
     },
     "execution_count": 107,
     "metadata": {},
     "output_type": "execute_result"
    }
   ],
   "source": [
    "seq_len_test.quantile([0.005, 0.01, 0.05, 0.1, 0.2, 0.3, 0.4, 0.5, 0.6, 0.7, 0.8, 0.9, 0.95, 0.98, 0.99, 0.995])"
   ]
  },
  {
   "cell_type": "markdown",
   "id": "ebfff4c3-f855-45b2-bc92-b0e937e6c0ad",
   "metadata": {},
   "source": [
    "### Protein sequences"
   ]
  },
  {
   "cell_type": "code",
   "execution_count": 112,
   "id": "8119f554-b20e-4046-b637-990fe1bc14c8",
   "metadata": {},
   "outputs": [],
   "source": [
    "%%capture\n",
    "\n",
    "def split_sequence_and_accumulate(seq: str, accumulator: List[str]) -> List[str]:\n",
    "    accumulator += [p for p in seq]\n",
    "\n",
    "split_seq_test = []\n",
    "df_test_raw.protein_sequence.apply(lambda sequence: split_sequence_and_accumulate(sequence, split_seq_test))"
   ]
  },
  {
   "cell_type": "code",
   "execution_count": 113,
   "id": "88f23eee-7c45-4f8d-95ed-39b1e1e7bef5",
   "metadata": {},
   "outputs": [],
   "source": [
    "split_seq_series_test = pd.Series(split_seq_test)"
   ]
  },
  {
   "cell_type": "code",
   "execution_count": 114,
   "id": "88d923a8-1193-4da5-a16c-5f2ee5fb5c39",
   "metadata": {},
   "outputs": [
    {
     "data": {
      "text/plain": [
       "K    57702\n",
       "A    52964\n",
       "N    45745\n",
       "G    45711\n",
       "S    43322\n",
       "P    40975\n",
       "D    36167\n",
       "V    31385\n",
       "Q    31284\n",
       "L    26531\n",
       "F    24175\n",
       "T    19343\n",
       "E    16955\n",
       "W    14545\n",
       "I    14536\n",
       "Y    14534\n",
       "C     9782\n",
       "R     7299\n",
       "M      123\n",
       "H      118\n",
       "dtype: int64"
      ]
     },
     "execution_count": 114,
     "metadata": {},
     "output_type": "execute_result"
    }
   ],
   "source": [
    "split_seq_series_test.value_counts()"
   ]
  },
  {
   "cell_type": "code",
   "execution_count": 115,
   "id": "ddc49637-42e2-4ea5-ab8b-7ed8dc3561fa",
   "metadata": {},
   "outputs": [
    {
     "data": {
      "text/plain": [
       "Text(0.5, 6.799999999999979, 'Amino acid')"
      ]
     },
     "execution_count": 115,
     "metadata": {},
     "output_type": "execute_result"
    },
    {
     "data": {
      "image/png": "[encoded data removed]",
      "text/plain": [
       "<Figure size 360x360 with 1 Axes>"
      ]
     },
     "metadata": {
      "needs_background": "light"
     },
     "output_type": "display_data"
    }
   ],
   "source": [
    "sns.displot(split_seq_series_test)\n",
    "plt.title('Amino acids - Distribution')\n",
    "plt.xlabel('Amino acid')"
   ]
  }
 ],
 "metadata": {
  "kernelspec": {
   "display_name": "base",
   "language": "python",
   "name": "base"
  },
  "language_info": {
   "codemirror_mode": {
    "name": "ipython",
    "version": 3
   },
   "file_extension": ".py",
   "mimetype": "text/x-python",
   "name": "python",
   "nbconvert_exporter": "python",
   "pygments_lexer": "ipython3",
   "version": "3.9.7"
  }
 },
 "nbformat": 4,
 "nbformat_minor": 5
}
